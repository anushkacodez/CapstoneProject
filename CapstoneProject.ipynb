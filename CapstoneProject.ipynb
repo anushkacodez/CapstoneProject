{
  "nbformat": 4,
  "nbformat_minor": 0,
  "metadata": {
    "colab": {
      "provenance": [],
      "authorship_tag": "ABX9TyMdPXcwV0wobeKUWR3VPV9E",
      "include_colab_link": true
    },
    "kernelspec": {
      "name": "python3",
      "display_name": "Python 3"
    },
    "language_info": {
      "name": "python"
    }
  },
  "cells": [
    {
      "cell_type": "markdown",
      "metadata": {
        "id": "view-in-github",
        "colab_type": "text"
      },
      "source": [
        "<a href=\"https://colab.research.google.com/github/anushkacodez/CapstoneProject/blob/main/CapstoneProject.ipynb\" target=\"_parent\"><img src=\"https://colab.research.google.com/assets/colab-badge.svg\" alt=\"Open In Colab\"/></a>"
      ]
    },
    {
      "cell_type": "code",
      "execution_count": 274,
      "metadata": {
        "id": "z6JTS_eMcLt9"
      },
      "outputs": [],
      "source": [
        "import numpy as np # linear algebra\n",
        "import pandas as pd # data processing, CSV file I/O (e.g. pd.read_csv)\n",
        "import seaborn as sns"
      ]
    },
    {
      "cell_type": "code",
      "source": [
        "df=pd.read_csv('Train_Data.csv')"
      ],
      "metadata": {
        "id": "z5M_OrfOcokH"
      },
      "execution_count": 275,
      "outputs": []
    },
    {
      "cell_type": "code",
      "source": [
        "avg_values = {\n",
        "    'ld': df['ld'].mean(),\n",
        "    'm0': df['m0'].mean(),\n",
        "    'm1': df['m1'].mean(),\n",
        "    'm2': df['m2'].mean(),\n",
        "    'm3': df['m3'].mean(),\n",
        "    'm4': df['m4'].mean(),\n",
        "    'm5': df['m5'].mean(),\n",
        "    'm6': df['m6'].mean(),\n",
        "    'm7': df['m7'].mean(),\n",
        "    'm8': df['m8'].mean(),\n",
        "    'm9': df['m9'].mean(),\n",
        "    'm10': df['m10'].mean(),\n",
        "    'm11': df['m11'].mean(),\n",
        "    'm12': df['m12'].mean(),\n",
        "    'm13': df['m13'].mean(),\n",
        "    'm14': df['m14'].mean(),\n",
        "\n",
        "\n",
        "}\n",
        "\n",
        "df.fillna(value=avg_values, inplace=True)"
      ],
      "metadata": {
        "id": "4_bqAXLfdJeS"
      },
      "execution_count": 276,
      "outputs": []
    },
    {
      "cell_type": "code",
      "source": [
        "df[['trash','ma']] = df['ma'].str.split('m', expand=True)\n",
        "df=df.drop(['trash'],axis=1)\n",
        "df['ma'] = df['ma'].astype(int)\n",
        "\n",
        "\n",
        "def replace_with_ascii(text):\n",
        "    return ''.join(str(ord(char)) for char in text)\n",
        "df['pc'] = df['pc'].apply(replace_with_ascii)\n",
        "df['pc'] = df['pc'].astype(int)\n",
        "\n",
        "df.dropna(subset=['pred'], inplace=True)"
      ],
      "metadata": {
        "id": "o_x36XkE5_i4"
      },
      "execution_count": 277,
      "outputs": []
    },
    {
      "cell_type": "code",
      "source": [
        "df.dtypes"
      ],
      "metadata": {
        "colab": {
          "base_uri": "https://localhost:8080/"
        },
        "id": "Ht8Kq3kmCuZH",
        "outputId": "e26217e1-788c-4e4d-cb80-808d557ce415"
      },
      "execution_count": 278,
      "outputs": [
        {
          "output_type": "execute_result",
          "data": {
            "text/plain": [
              "pc        int64\n",
              "ld      float64\n",
              "m0      float64\n",
              "m1      float64\n",
              "m2      float64\n",
              "m3      float64\n",
              "m4      float64\n",
              "m5      float64\n",
              "m6      float64\n",
              "m7      float64\n",
              "m8      float64\n",
              "m9      float64\n",
              "m10     float64\n",
              "m11     float64\n",
              "m12     float64\n",
              "m13     float64\n",
              "m14     float64\n",
              "ma        int64\n",
              "pred      int64\n",
              "dtype: object"
            ]
          },
          "metadata": {},
          "execution_count": 278
        }
      ]
    },
    {
      "cell_type": "code",
      "source": [
        "from sklearn.linear_model import LogisticRegression\n",
        "from sklearn.model_selection import train_test_split\n",
        "from sklearn.metrics import accuracy_score, classification_report"
      ],
      "metadata": {
        "id": "V54-73NIgRw4"
      },
      "execution_count": 279,
      "outputs": []
    },
    {
      "cell_type": "code",
      "source": [
        "# Assuming X contains the predictor variables and y contains the target variable\n",
        "X = df.iloc[:, 0:18]  # Select the columns representing the predictor variables\n",
        "y = df.iloc[:,18]  # Select the column representing the target variable\n",
        "\n",
        "# Split the data into training and testing sets\n",
        "X_train, X_test, y_train, y_test = train_test_split(X, y, test_size=0.1, random_state=42)\n"
      ],
      "metadata": {
        "id": "NL_ETErngfJx"
      },
      "execution_count": 280,
      "outputs": []
    },
    {
      "cell_type": "code",
      "source": [
        "test=pd.read_csv(\"Test_Data.csv\")"
      ],
      "metadata": {
        "id": "BTDB-iuG_Sh5"
      },
      "execution_count": 281,
      "outputs": []
    },
    {
      "cell_type": "code",
      "source": [
        "avg_values_test = {\n",
        "    'ld': test['ld'].mean(),\n",
        "    'm0': test['m0'].mean(),\n",
        "    'm1': test['m1'].mean(),\n",
        "    'm2': test['m2'].mean(),\n",
        "    'm3': test['m3'].mean(),\n",
        "    'm4': test['m4'].mean(),\n",
        "    'm5': test['m5'].mean(),\n",
        "    'm6': test['m6'].mean(),\n",
        "    'm7': test['m7'].mean(),\n",
        "    'm8': test['m8'].mean(),\n",
        "    'm9': test['m9'].mean(),\n",
        "    'm10': test['m10'].mean(),\n",
        "    'm11': test['m11'].mean(),\n",
        "    'm12': test['m12'].mean(),\n",
        "    'm13': test['m13'].mean(),\n",
        "    'm14': test['m14'].mean(),\n",
        "\n",
        "\n",
        "}\n",
        "\n",
        "test.fillna(value=avg_values_test, inplace=True)"
      ],
      "metadata": {
        "id": "M9jg-7ANWcba"
      },
      "execution_count": 282,
      "outputs": []
    },
    {
      "cell_type": "code",
      "source": [
        "test[['trash','ma']] = test['ma'].str.split('m', expand=True)\n",
        "test=test.drop(['trash'],axis=1)\n",
        "test['ma'] = test['ma'].astype(int)\n",
        "\n",
        "\n",
        "test['pc'] = test['pc'].apply(replace_with_ascii)\n",
        "test['pc'] = test['pc'].astype(int)\n",
        "\n",
        "test=test.drop(['index'],axis=1)"
      ],
      "metadata": {
        "id": "G7oP4Is0_Xap"
      },
      "execution_count": 283,
      "outputs": []
    },
    {
      "cell_type": "code",
      "source": [
        "test.dtypes"
      ],
      "metadata": {
        "colab": {
          "base_uri": "https://localhost:8080/"
        },
        "id": "6uzkg6Qj_nSf",
        "outputId": "97527b78-1e97-4920-b448-5bf921f4a068"
      },
      "execution_count": 284,
      "outputs": [
        {
          "output_type": "execute_result",
          "data": {
            "text/plain": [
              "pc       int64\n",
              "ld     float64\n",
              "m0     float64\n",
              "m1     float64\n",
              "m2     float64\n",
              "m3     float64\n",
              "m4     float64\n",
              "m5     float64\n",
              "m6     float64\n",
              "m7     float64\n",
              "m8     float64\n",
              "m9     float64\n",
              "m10    float64\n",
              "m11    float64\n",
              "m12    float64\n",
              "m13    float64\n",
              "m14    float64\n",
              "ma       int64\n",
              "dtype: object"
            ]
          },
          "metadata": {},
          "execution_count": 284
        }
      ]
    },
    {
      "cell_type": "code",
      "source": [
        "from sklearn.ensemble import RandomForestClassifier"
      ],
      "metadata": {
        "id": "rtNsFsFSF-ze"
      },
      "execution_count": 285,
      "outputs": []
    },
    {
      "cell_type": "code",
      "source": [
        "model=RandomForestClassifier(n_estimators=10)\n",
        "model.fit(X_train, y_train)\n",
        "\n",
        "y_pred=model.predict(X_test)\n",
        "\n",
        "from sklearn.metrics import f1_score, accuracy_score\n",
        "\n",
        "f1 = f1_score(y_test, y_pred)\n",
        "print(\"F1 score:\", f1)\n",
        "accuracy = accuracy_score(y_test, y_pred)\n",
        "print(\"accuracy\", accuracy)"
      ],
      "metadata": {
        "colab": {
          "base_uri": "https://localhost:8080/"
        },
        "id": "_fQpFUpX5R6z",
        "outputId": "cacbf443-9ae0-4f86-b699-c1e937c06618"
      },
      "execution_count": 286,
      "outputs": [
        {
          "output_type": "stream",
          "name": "stdout",
          "text": [
            "F1 score: 0.07224334600760457\n",
            "accuracy 0.783975210270031\n"
          ]
        }
      ]
    },
    {
      "cell_type": "code",
      "source": [
        "Y_pred=model.predict(test)\n",
        "result=pd.DataFrame(Y_pred, columns=['pred'])\n",
        "result.to_csv('submit.csv', index=False)"
      ],
      "metadata": {
        "id": "rEgWGVeaH-IN"
      },
      "execution_count": 287,
      "outputs": []
    }
  ]
}